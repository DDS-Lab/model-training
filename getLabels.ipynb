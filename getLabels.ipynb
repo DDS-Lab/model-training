{
 "cells": [
  {
   "cell_type": "code",
   "execution_count": 4,
   "metadata": {},
   "outputs": [],
   "source": [
    "from PIL import Image\n",
    "import numpy as np\n",
    "import json"
   ]
  },
  {
   "cell_type": "code",
   "execution_count": 11,
   "metadata": {},
   "outputs": [],
   "source": [
    "# Processes an xView GeoJSON file\n",
    "# INPUT: filepath to the GeoJSON file\n",
    "# OUTPUT: Bounding box coordinate array, Chip-name array, and Class-id array\n",
    "def get_labels(fname=\"xView_train.geojson\"):\n",
    "    with open(fname) as f:\n",
    "        data = json.load(f)\n",
    "    \n",
    "    coords = np.zeros((len(data['features']),4))\n",
    "    chips = np.zeros((len(data['features'])),dtype=\"object\")\n",
    "    classes = np.zeros((len(data['features'])))\n",
    "    for i in range(len(data['features'])):\n",
    "        if data['features'][i]['properties']['bb'] != []:\n",
    "            b_id = data['features'][i]['properties']['Joined lay']\n",
    "            val = np.array([int(num) for num in data['features'][i]['properties']['bb'].strip('()').split(\",\")])\n",
    "            chips[i] = b_id\n",
    "            classes[i] = data['features'][i]['properties']['type']\n",
    "            coords[i] = val\n",
    "        else:\n",
    "            chips[i] = 'None'\n",
    "    return coords, chips, classes"
   ]
  },
  {
   "cell_type": "code",
   "execution_count": 12,
   "metadata": {},
   "outputs": [
    {
     "data": {
      "text/plain": [
       "(array([[ 744., 1166.,  788., 1203.],\n",
       "        [ 536., 1171.,  576., 1201.],\n",
       "        [1134., 1182., 1146., 1192.],\n",
       "        ...,\n",
       "        [1262.,  727., 1311.,  768.],\n",
       "        [1141.,  751., 1215.,  809.],\n",
       "        [1287.,  822., 1329.,  870.]]),\n",
       " array(['20170831_105001000B95E200_3002332_jpeg_compressed_02_01.tif',\n",
       "        '20170831_105001000B95E200_3002332_jpeg_compressed_02_01.tif',\n",
       "        '20170831_105001000B95E200_3002332_jpeg_compressed_02_01.tif', ...,\n",
       "        '20170829_1040010032211E00_2112000_jpeg_compressed_05_09.tif',\n",
       "        '20170829_1040010032211E00_2112000_jpeg_compressed_05_09.tif',\n",
       "        '20170829_1040010032211E00_2112000_jpeg_compressed_05_09.tif'],\n",
       "       dtype=object),\n",
       " array([2., 2., 2., ..., 2., 2., 2.]))"
      ]
     },
     "execution_count": 12,
     "metadata": {},
     "output_type": "execute_result"
    }
   ],
   "source": [
    "get_labels('final_TOMNOD_fixedprecision_w_bb.geojson')"
   ]
  },
  {
   "cell_type": "code",
   "execution_count": null,
   "metadata": {},
   "outputs": [],
   "source": []
  }
 ],
 "metadata": {
  "kernelspec": {
   "display_name": "Environment (conda_tensorflow_p36)",
   "language": "python",
   "name": "conda_tensorflow_p36"
  },
  "language_info": {
   "codemirror_mode": {
    "name": "ipython",
    "version": 3
   },
   "file_extension": ".py",
   "mimetype": "text/x-python",
   "name": "python",
   "nbconvert_exporter": "python",
   "pygments_lexer": "ipython3",
   "version": "3.6.5"
  }
 },
 "nbformat": 4,
 "nbformat_minor": 2
}
