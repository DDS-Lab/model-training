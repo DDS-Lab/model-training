{
 "cells": [
  {
   "cell_type": "markdown",
   "metadata": {},
   "source": [
    "This notebook will chip the images in small boxes (300x300) for deep learning training."
   ]
  },
  {
   "cell_type": "code",
   "execution_count": 4,
   "metadata": {},
   "outputs": [],
   "source": [
    "import aug_util as aug\n",
    "import wv_util as wv\n",
    "from PIL import ImageFont\n",
    "import matplotlib.pyplot as plt\n",
    "import numpy as np\n",
    "import csv\n",
    "import skimage\n",
    "from skimage.io import imread\n",
    "import rasterio\n",
    "import pandas\n",
    "import json"
   ]
  },
  {
   "cell_type": "code",
   "execution_count": null,
   "metadata": {},
   "outputs": [],
   "source": []
  },
  {
   "cell_type": "code",
   "execution_count": null,
   "metadata": {},
   "outputs": [],
   "source": []
  },
  {
   "cell_type": "code",
   "execution_count": null,
   "metadata": {},
   "outputs": [],
   "source": [
    "\n",
    "    "
   ]
  },
  {
   "cell_type": "code",
   "execution_count": 12,
   "metadata": {},
   "outputs": [
    {
     "name": "stdout",
     "output_type": "stream",
     "text": [
      "100%|███████████████████████████████| 126937/126937 [00:00<00:00, 160944.62it/s]\n",
      "INFO:root:Res: (300, 300)\n",
      "100%|███████████████████████████████████| 18534/18534 [1:42:27<00:00,  5.37it/s]\n",
      "INFO:root:Max chips per resolution: 21193 \n",
      "INFO:root:Tot Box: 138928\n",
      "INFO:root:Chips: 14129\n",
      "INFO:root:saved: 9822 train chips\n",
      "INFO:root:saved: 4307 test chips\n"
     ]
    }
   ],
   "source": [
    "!python process_wv.py ../dssg_data/image_tiles_aws/ ../dssg_data/harvey_ms_2class_fixedprecision.geojson"
   ]
  },
  {
   "cell_type": "code",
   "execution_count": null,
   "metadata": {},
   "outputs": [],
   "source": []
  }
 ],
 "metadata": {
  "kernelspec": {
   "display_name": "Python [conda env:tensorflow_p36]",
   "language": "python",
   "name": "conda-env-tensorflow_p36-py"
  },
  "language_info": {
   "codemirror_mode": {
    "name": "ipython",
    "version": 3
   },
   "file_extension": ".py",
   "mimetype": "text/x-python",
   "name": "python",
   "nbconvert_exporter": "python",
   "pygments_lexer": "ipython3",
   "version": "3.6.5"
  }
 },
 "nbformat": 4,
 "nbformat_minor": 2
}
